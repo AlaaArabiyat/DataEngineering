{
 "cells": [
  {
   "cell_type": "code",
   "execution_count": 1,
   "id": "7d91f8db-d17f-4f55-a3c8-84fef8375b6f",
   "metadata": {},
   "outputs": [
    {
     "name": "stdout",
     "output_type": "stream",
     "text": [
      "Collecting faker\n",
      "  Downloading Faker-13.12.0-py3-none-any.whl (1.6 MB)\n",
      "\u001b[2K     \u001b[90m━━━━━━━━━━━━━━━━━━━━━━━━━━━━━━━━━━━━━━━━\u001b[0m \u001b[32m1.6/1.6 MB\u001b[0m \u001b[31m10.4 MB/s\u001b[0m eta \u001b[36m0:00:00\u001b[0m00:01\u001b[0m00:01\u001b[0m\n",
      "\u001b[?25hRequirement already satisfied: python-dateutil>=2.4 in /opt/conda/lib/python3.10/site-packages (from faker) (2.8.2)\n",
      "Requirement already satisfied: six>=1.5 in /opt/conda/lib/python3.10/site-packages (from python-dateutil>=2.4->faker) (1.16.0)\n",
      "Installing collected packages: faker\n",
      "Successfully installed faker-13.12.0\n"
     ]
    }
   ],
   "source": [
    "try:\n",
    "  from faker import Faker\n",
    "except:\n",
    "  !pip install faker \n",
    "  from faker import Faker"
   ]
  },
  {
   "cell_type": "code",
   "execution_count": 2,
   "id": "61db6879-c95f-4bb3-83d4-c98ae8e0b589",
   "metadata": {},
   "outputs": [
    {
     "name": "stdout",
     "output_type": "stream",
     "text": [
      "['Patrick Long', 37, '31995 Yoder Park Apt. 614', 'South Christopherbury', 'Wisconsin', '63052', Decimal('-176.727755'), Decimal('-63.228606')]\n",
      "['Jessica Moon', 77, '3871 Davis Common Suite 653', 'Gomeztown', 'Mississippi', '55181', Decimal('165.266476'), Decimal('35.7763955')]\n",
      "['Patricia Bryant', 39, '67196 Harris Estate', 'Tanyaside', 'Arkansas', '62927', Decimal('-79.764319'), Decimal('-84.4720245')]\n",
      "['Daniel Hamilton', 28, '3908 Ashley Ports Suite 129', 'Lake Jared', 'Florida', '11423', Decimal('-136.197164'), Decimal('31.400185')]\n",
      "['Hayley Robertson', 77, '1075 Tucker Prairie Apt. 625', 'East Kelsey', 'New Mexico', '28712', Decimal('78.216936'), Decimal('43.6058815')]\n",
      "['Christopher Butler', 53, '077 Jesse Streets', 'North Jason', 'North Dakota', '13718', Decimal('-159.530508'), Decimal('36.2961915')]\n",
      "['Brittany Davis', 25, '5541 Kyle Walk', 'New Barbaramouth', 'Ohio', '96431', Decimal('145.318220'), Decimal('-24.3704045')]\n",
      "['David Hernandez', 39, '1707 Elizabeth Station Suite 882', 'Lake Anna', 'Maine', '96552', Decimal('-25.037690'), Decimal('49.0358575')]\n",
      "['Kristina Wright', 74, '124 Davis Canyon Suite 385', 'Dianaton', 'Delaware', '78144', Decimal('-76.194429'), Decimal('-61.985950')]\n",
      "['Natasha Jackson', 45, '25658 Luis Plain', 'South Kathleenview', 'Wyoming', '33601', Decimal('88.830635'), Decimal('61.082419')]\n"
     ]
    }
   ],
   "source": [
    "from faker import Faker\n",
    "import csv\n",
    "output=open('/home/csv_data/data.csv','w')\n",
    "fake=Faker()\n",
    "header=['name','age','street','city','state','zip','lng','lat']\n",
    "mywriter=csv.writer(output)\n",
    "mywriter.writerow(header)\n",
    "for r in range(10):\n",
    "    row =[fake.name(),fake.random_int(min=18,max=80, step=1), \n",
    "                       fake.street_address(), fake.city(),fake.state(),\n",
    "                       fake.zipcode(),fake.longitude(),fake.latitude()]\n",
    "    print(row)\n",
    "    mywriter.writerow(row)\n",
    "\n",
    "output.close()"
   ]
  },
  {
   "cell_type": "code",
   "execution_count": null,
   "id": "1bf129ff-70e6-45fe-854e-3e0a2921bff9",
   "metadata": {},
   "outputs": [],
   "source": []
  }
 ],
 "metadata": {
  "kernelspec": {
   "display_name": "Python 3 (ipykernel)",
   "language": "python",
   "name": "python3"
  },
  "language_info": {
   "codemirror_mode": {
    "name": "ipython",
    "version": 3
   },
   "file_extension": ".py",
   "mimetype": "text/x-python",
   "name": "python",
   "nbconvert_exporter": "python",
   "pygments_lexer": "ipython3",
   "version": "3.10.4"
  }
 },
 "nbformat": 4,
 "nbformat_minor": 5
}
